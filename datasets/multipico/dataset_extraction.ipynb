{
 "cells": [
  {
   "cell_type": "code",
   "execution_count": null,
   "metadata": {},
   "outputs": [
    {
     "name": "stdout",
     "output_type": "stream",
     "text": [
      "File Excel creato: dataset_es.xlsx\n",
      "File Excel creato: dataset_en.xlsx\n",
      "File Excel creato: dataset_fr.xlsx\n"
     ]
    }
   ],
   "source": [
    "import pandas as pd\n",
    "\n",
    "# Carica il file CSV\n",
    "csv_file = 'multipico_ita_filtered.csv'  # Assicurati che il file sia nella stessa directory dello script\n",
    "df = pd.read_csv(csv_file)\n",
    "\n",
    "# Seleziona le colonne richieste\n",
    "df_filtered = df[['post_id', 'reply_id', 'post', 'reply']].copy()\n",
    "\n",
    "# Aggiungi la colonna 'label' vuota\n",
    "df_filtered['label'] = ''\n",
    "\n",
    "# Salva in formato Excel\n",
    "excel_file = 'dataset.xlsx'\n",
    "df_filtered.to_excel(excel_file, index=False)\n",
    "\n",
    "print(f'File Excel creato: {excel_file}')\n"
   ]
  }
 ],
 "metadata": {
  "kernelspec": {
   "display_name": "venv",
   "language": "python",
   "name": "python3"
  },
  "language_info": {
   "codemirror_mode": {
    "name": "ipython",
    "version": 3
   },
   "file_extension": ".py",
   "mimetype": "text/x-python",
   "name": "python",
   "nbconvert_exporter": "python",
   "pygments_lexer": "ipython3",
   "version": "3.12.3"
  }
 },
 "nbformat": 4,
 "nbformat_minor": 2
}
