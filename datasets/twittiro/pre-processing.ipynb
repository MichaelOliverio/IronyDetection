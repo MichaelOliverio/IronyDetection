{
 "cells": [
  {
   "cell_type": "code",
   "execution_count": 1,
   "id": "1616df7b",
   "metadata": {},
   "outputs": [],
   "source": [
    "import pandas as pd\n",
    "\n",
    "def parse_conllu_file(filepath):\n",
    "    data = []\n",
    "    with open(filepath, \"r\", encoding=\"utf-8\") as file:\n",
    "        sent_id = text = twittiro = None\n",
    "        for line in file:\n",
    "            line = line.strip()\n",
    "            if line.startswith(\"# sent_id =\"):\n",
    "                sent_id = line.split(\"=\", 1)[1].strip()\n",
    "            elif line.startswith(\"# text =\"):\n",
    "                text = line.split(\"=\", 1)[1].strip()\n",
    "            elif line.startswith(\"# twittiro =\"):\n",
    "                twittiro = line.split(\"=\", 1)[1].strip()\n",
    "\n",
    "                if \"IMPLICIT\" in twittiro or \"EXPLICIT\" in twittiro:\n",
    "                    #replace\n",
    "                    twittiro = twittiro.replace(\"IMPLICIT\", \"\").replace(\"EXPLICIT\", \"\")\n",
    "\n",
    "                # remove first \\t\n",
    "                if twittiro.startswith(\"\\t\"):\n",
    "                    twittiro = twittiro[1:]\n",
    "\n",
    "                # Quando abbiamo tutti e tre i dati, li salviamo\n",
    "                if sent_id and text and twittiro:\n",
    "                    data.append({\n",
    "                        \"id\": sent_id,\n",
    "                        \"input\": text,\n",
    "                        \"output\": twittiro\n",
    "                    })\n",
    "                    # Reset per la prossima frase\n",
    "                    sent_id = text = twittiro = None\n",
    "    return pd.DataFrame(data)\n",
    "\n",
    "# Esempio di utilizzo\n",
    "datasets = {\n",
    "    'dev': 'it_twittiro-ud-dev.conllu',\n",
    "    'test': 'it_twittiro-ud-test.conllu',\n",
    "    'train': 'it_twittiro-ud-train.conllu',   \n",
    "}\n",
    "\n",
    "for split in datasets:\n",
    "    df = parse_conllu_file(datasets[split])\n",
    "    df.to_csv(f\"{split}.csv\", index=False, encoding=\"utf-8\")"
   ]
  }
 ],
 "metadata": {
  "kernelspec": {
   "display_name": "venv",
   "language": "python",
   "name": "python3"
  },
  "language_info": {
   "codemirror_mode": {
    "name": "ipython",
    "version": 3
   },
   "file_extension": ".py",
   "mimetype": "text/x-python",
   "name": "python",
   "nbconvert_exporter": "python",
   "pygments_lexer": "ipython3",
   "version": "3.11.0"
  }
 },
 "nbformat": 4,
 "nbformat_minor": 5
}
