{
 "cells": [
  {
   "cell_type": "code",
   "execution_count": 4,
   "id": "c4327d51",
   "metadata": {},
   "outputs": [],
   "source": [
    "import conllu\n",
    "import pandas as pd"
   ]
  },
  {
   "cell_type": "code",
   "execution_count": 10,
   "id": "6f324b85",
   "metadata": {},
   "outputs": [
    {
     "name": "stdout",
     "output_type": "stream",
     "text": [
      "train set:\n",
      "Numero medio di token per frase: 20.77\n",
      "Numero totale di frasi: 1138\n",
      "\n",
      "\n",
      "dev set:\n",
      "Numero medio di token per frase: 20.80\n",
      "Numero totale di frasi: 144\n",
      "\n",
      "\n",
      "test set:\n",
      "Numero medio di token per frase: 20.96\n",
      "Numero totale di frasi: 142\n",
      "\n",
      "\n"
     ]
    }
   ],
   "source": [
    "splits = ['train', 'dev', 'test']\n",
    "\n",
    "for split in splits:\n",
    "    with open(f\"it_twittiro-ud-{split}.conllu\", \"r\", encoding=\"utf-8\") as f:\n",
    "        data = conllu.parse(f.read())\n",
    "    \n",
    "    # Estrai i testi e conta i token\n",
    "    texts = []\n",
    "    token_counts = []\n",
    "\n",
    "    for i, sentence in enumerate(data):\n",
    "        # Salva il testo se presente nei metadata\n",
    "        if sentence.metadata and 'text' in sentence.metadata:\n",
    "            texts.append(sentence.metadata['text'])\n",
    "\n",
    "        # Conta i token (ignora eventuali elementi non-token come empty nodes)\n",
    "        token_count = len([token for token in sentence if isinstance(token['id'], int)])\n",
    "        token_counts.append(token_count)\n",
    "\n",
    "    # Calcola la media\n",
    "    average_tokens = sum(token_counts) / len(token_counts)\n",
    "    print(f\"{split} set:\")\n",
    "    print(f\"Numero medio di token per frase: {average_tokens:.2f}\")\n",
    "    print(f\"Numero totale di frasi: {len(data)}\")\n",
    "    print('\\n')"
   ]
  }
 ],
 "metadata": {
  "kernelspec": {
   "display_name": "venv",
   "language": "python",
   "name": "python3"
  },
  "language_info": {
   "codemirror_mode": {
    "name": "ipython",
    "version": 3
   },
   "file_extension": ".py",
   "mimetype": "text/x-python",
   "name": "python",
   "nbconvert_exporter": "python",
   "pygments_lexer": "ipython3",
   "version": "3.12.3"
  }
 },
 "nbformat": 4,
 "nbformat_minor": 5
}
