{
 "cells": [
  {
   "cell_type": "code",
   "execution_count": 1,
   "metadata": {
    "colab": {
     "base_uri": "https://localhost:8080/"
    },
    "executionInfo": {
     "elapsed": 15899,
     "status": "ok",
     "timestamp": 1748338806332,
     "user": {
      "displayName": "Pier Felice Balestrucci",
      "userId": "15689117121183376962"
     },
     "user_tz": -120
    },
    "id": "nCP8nnir6KWZ",
    "outputId": "d0e7b6ed-7ffe-4e72-e715-8f29ff5bbae7"
   },
   "outputs": [
    {
     "name": "stdout",
     "output_type": "stream",
     "text": [
      "Requirement already satisfied: datasets in c:\\users\\micha\\onedrive\\desktop\\università\\progetti\\ironydetection\\venv\\lib\\site-packages (3.5.1)\n",
      "Collecting datasets\n",
      "  Downloading datasets-3.6.0-py3-none-any.whl.metadata (19 kB)\n",
      "Requirement already satisfied: filelock in c:\\users\\micha\\onedrive\\desktop\\università\\progetti\\ironydetection\\venv\\lib\\site-packages (from datasets) (3.18.0)\n",
      "Requirement already satisfied: numpy>=1.17 in c:\\users\\micha\\onedrive\\desktop\\università\\progetti\\ironydetection\\venv\\lib\\site-packages (from datasets) (2.2.5)\n",
      "Requirement already satisfied: pyarrow>=15.0.0 in c:\\users\\micha\\onedrive\\desktop\\università\\progetti\\ironydetection\\venv\\lib\\site-packages (from datasets) (20.0.0)\n",
      "Requirement already satisfied: dill<0.3.9,>=0.3.0 in c:\\users\\micha\\onedrive\\desktop\\università\\progetti\\ironydetection\\venv\\lib\\site-packages (from datasets) (0.3.8)\n",
      "Requirement already satisfied: pandas in c:\\users\\micha\\onedrive\\desktop\\università\\progetti\\ironydetection\\venv\\lib\\site-packages (from datasets) (2.2.3)\n",
      "Requirement already satisfied: requests>=2.32.2 in c:\\users\\micha\\onedrive\\desktop\\università\\progetti\\ironydetection\\venv\\lib\\site-packages (from datasets) (2.32.3)\n",
      "Requirement already satisfied: tqdm>=4.66.3 in c:\\users\\micha\\onedrive\\desktop\\università\\progetti\\ironydetection\\venv\\lib\\site-packages (from datasets) (4.67.1)\n",
      "Requirement already satisfied: xxhash in c:\\users\\micha\\onedrive\\desktop\\università\\progetti\\ironydetection\\venv\\lib\\site-packages (from datasets) (3.5.0)\n",
      "Requirement already satisfied: multiprocess<0.70.17 in c:\\users\\micha\\onedrive\\desktop\\università\\progetti\\ironydetection\\venv\\lib\\site-packages (from datasets) (0.70.16)\n",
      "Requirement already satisfied: fsspec<=2025.3.0,>=2023.1.0 in c:\\users\\micha\\onedrive\\desktop\\università\\progetti\\ironydetection\\venv\\lib\\site-packages (from fsspec[http]<=2025.3.0,>=2023.1.0->datasets) (2025.3.0)\n",
      "Requirement already satisfied: huggingface-hub>=0.24.0 in c:\\users\\micha\\onedrive\\desktop\\università\\progetti\\ironydetection\\venv\\lib\\site-packages (from datasets) (0.30.2)\n",
      "Requirement already satisfied: packaging in c:\\users\\micha\\onedrive\\desktop\\università\\progetti\\ironydetection\\venv\\lib\\site-packages (from datasets) (25.0)\n",
      "Requirement already satisfied: pyyaml>=5.1 in c:\\users\\micha\\onedrive\\desktop\\università\\progetti\\ironydetection\\venv\\lib\\site-packages (from datasets) (6.0.2)\n",
      "Requirement already satisfied: aiohttp!=4.0.0a0,!=4.0.0a1 in c:\\users\\micha\\onedrive\\desktop\\università\\progetti\\ironydetection\\venv\\lib\\site-packages (from fsspec[http]<=2025.3.0,>=2023.1.0->datasets) (3.11.18)\n",
      "Requirement already satisfied: aiohappyeyeballs>=2.3.0 in c:\\users\\micha\\onedrive\\desktop\\università\\progetti\\ironydetection\\venv\\lib\\site-packages (from aiohttp!=4.0.0a0,!=4.0.0a1->fsspec[http]<=2025.3.0,>=2023.1.0->datasets) (2.6.1)\n",
      "Requirement already satisfied: aiosignal>=1.1.2 in c:\\users\\micha\\onedrive\\desktop\\università\\progetti\\ironydetection\\venv\\lib\\site-packages (from aiohttp!=4.0.0a0,!=4.0.0a1->fsspec[http]<=2025.3.0,>=2023.1.0->datasets) (1.3.2)\n",
      "Requirement already satisfied: attrs>=17.3.0 in c:\\users\\micha\\onedrive\\desktop\\università\\progetti\\ironydetection\\venv\\lib\\site-packages (from aiohttp!=4.0.0a0,!=4.0.0a1->fsspec[http]<=2025.3.0,>=2023.1.0->datasets) (25.3.0)\n",
      "Requirement already satisfied: frozenlist>=1.1.1 in c:\\users\\micha\\onedrive\\desktop\\università\\progetti\\ironydetection\\venv\\lib\\site-packages (from aiohttp!=4.0.0a0,!=4.0.0a1->fsspec[http]<=2025.3.0,>=2023.1.0->datasets) (1.6.0)\n",
      "Requirement already satisfied: multidict<7.0,>=4.5 in c:\\users\\micha\\onedrive\\desktop\\università\\progetti\\ironydetection\\venv\\lib\\site-packages (from aiohttp!=4.0.0a0,!=4.0.0a1->fsspec[http]<=2025.3.0,>=2023.1.0->datasets) (6.4.3)\n",
      "Requirement already satisfied: propcache>=0.2.0 in c:\\users\\micha\\onedrive\\desktop\\università\\progetti\\ironydetection\\venv\\lib\\site-packages (from aiohttp!=4.0.0a0,!=4.0.0a1->fsspec[http]<=2025.3.0,>=2023.1.0->datasets) (0.3.1)\n",
      "Requirement already satisfied: yarl<2.0,>=1.17.0 in c:\\users\\micha\\onedrive\\desktop\\università\\progetti\\ironydetection\\venv\\lib\\site-packages (from aiohttp!=4.0.0a0,!=4.0.0a1->fsspec[http]<=2025.3.0,>=2023.1.0->datasets) (1.20.0)\n",
      "Requirement already satisfied: idna>=2.0 in c:\\users\\micha\\onedrive\\desktop\\università\\progetti\\ironydetection\\venv\\lib\\site-packages (from yarl<2.0,>=1.17.0->aiohttp!=4.0.0a0,!=4.0.0a1->fsspec[http]<=2025.3.0,>=2023.1.0->datasets) (3.10)\n",
      "Requirement already satisfied: typing-extensions>=3.7.4.3 in c:\\users\\micha\\onedrive\\desktop\\università\\progetti\\ironydetection\\venv\\lib\\site-packages (from huggingface-hub>=0.24.0->datasets) (4.13.2)\n",
      "Requirement already satisfied: charset-normalizer<4,>=2 in c:\\users\\micha\\onedrive\\desktop\\università\\progetti\\ironydetection\\venv\\lib\\site-packages (from requests>=2.32.2->datasets) (3.4.2)\n",
      "Requirement already satisfied: urllib3<3,>=1.21.1 in c:\\users\\micha\\onedrive\\desktop\\università\\progetti\\ironydetection\\venv\\lib\\site-packages (from requests>=2.32.2->datasets) (2.4.0)\n",
      "Requirement already satisfied: certifi>=2017.4.17 in c:\\users\\micha\\onedrive\\desktop\\università\\progetti\\ironydetection\\venv\\lib\\site-packages (from requests>=2.32.2->datasets) (2025.4.26)\n",
      "Requirement already satisfied: colorama in c:\\users\\micha\\onedrive\\desktop\\università\\progetti\\ironydetection\\venv\\lib\\site-packages (from tqdm>=4.66.3->datasets) (0.4.6)\n",
      "Requirement already satisfied: python-dateutil>=2.8.2 in c:\\users\\micha\\onedrive\\desktop\\università\\progetti\\ironydetection\\venv\\lib\\site-packages (from pandas->datasets) (2.9.0.post0)\n",
      "Requirement already satisfied: pytz>=2020.1 in c:\\users\\micha\\onedrive\\desktop\\università\\progetti\\ironydetection\\venv\\lib\\site-packages (from pandas->datasets) (2025.2)\n",
      "Requirement already satisfied: tzdata>=2022.7 in c:\\users\\micha\\onedrive\\desktop\\università\\progetti\\ironydetection\\venv\\lib\\site-packages (from pandas->datasets) (2025.2)\n",
      "Requirement already satisfied: six>=1.5 in c:\\users\\micha\\onedrive\\desktop\\università\\progetti\\ironydetection\\venv\\lib\\site-packages (from python-dateutil>=2.8.2->pandas->datasets) (1.17.0)\n",
      "Downloading datasets-3.6.0-py3-none-any.whl (491 kB)\n",
      "Installing collected packages: datasets\n",
      "  Attempting uninstall: datasets\n",
      "    Found existing installation: datasets 3.5.1\n",
      "    Uninstalling datasets-3.5.1:\n",
      "      Successfully uninstalled datasets-3.5.1\n",
      "Successfully installed datasets-3.6.0\n",
      "Note: you may need to restart the kernel to use updated packages.\n"
     ]
    }
   ],
   "source": [
    "pip install -U datasets"
   ]
  },
  {
   "cell_type": "code",
   "execution_count": 2,
   "metadata": {
    "executionInfo": {
     "elapsed": 1760,
     "status": "ok",
     "timestamp": 1748338846150,
     "user": {
      "displayName": "Pier Felice Balestrucci",
      "userId": "15689117121183376962"
     },
     "user_tz": -120
    },
    "id": "acOUwGBA6N7H"
   },
   "outputs": [
    {
     "name": "stderr",
     "output_type": "stream",
     "text": [
      "c:\\Users\\micha\\OneDrive\\Desktop\\Università\\Progetti\\IronyDetection\\venv\\Lib\\site-packages\\tqdm\\auto.py:21: TqdmWarning: IProgress not found. Please update jupyter and ipywidgets. See https://ipywidgets.readthedocs.io/en/stable/user_install.html\n",
      "  from .autonotebook import tqdm as notebook_tqdm\n"
     ]
    }
   ],
   "source": [
    "from datasets import load_dataset\n",
    "import pandas as pd\n"
   ]
  },
  {
   "cell_type": "code",
   "execution_count": 3,
   "metadata": {
    "colab": {
     "base_uri": "https://localhost:8080/",
     "height": 217,
     "referenced_widgets": [
      "4512e2504c79401eb2628e94a4133fe1",
      "d2b9b829c60644558c51f5251cb94835",
      "c2fb06aaa5834aecbdbc2c308368a544",
      "c2d58b146018402a984c6b0f3f12a236",
      "4d507c344d6f4d629f6390fa45dd181c",
      "ae2911fbb45740be98fc69fab3ae64f4",
      "f22787fd29ad455781d860b1555f77fb",
      "5c299a333c40413d8510981d24ea352d",
      "d3ddc41628ba4b80ab15164ef9e023f7",
      "84714012d9ab434bae9b9f62ac330a6f",
      "3ead94994ecc43ecaf8f35feb6439f87",
      "c474c4fa4d8049d1bdcdb9b2182f7ef4",
      "295a57702c764d499d49dbd7636a3458",
      "3b9c1925ac6a444787a038d4cd631f87",
      "b2ab0c419ac543f7b856ccdd6a9fe71b",
      "9959a171c49a486181b4a846402ae760",
      "03749d1b43304b4489b70ff697612bfc",
      "35b89742078b4473ab94e6372c1da1ae",
      "e185796cf58345d1a2210f5fc9c2fecb",
      "2fa2064bbb6c443b95eb86efb014cc16",
      "2475080108874b678fed4a4b876f52bf",
      "7083059ae69b4b1fbf27016e5f538752",
      "d441a3e7763e4b2890a387aaeff75399",
      "62a4ae56c35d4766bd91888c827c2c0b",
      "f5b1821e7f604dc0ab9f054686e396f7",
      "a7d5d851d1214eef900a598d003b8431",
      "0428cac2e6774c05a6b2d3b43e630437",
      "24f94f5a9b64471ba72b562411e46344",
      "f1fe35549ae548da86c644f692203298",
      "e7c775a45de84c6f92ace82f134e7a58",
      "3784dd6bb3dd4c6fb5f2fc7fe755ecf0",
      "9cc00904107c4bc0884e8d6d61075101",
      "0818a69bc7cd4309b09db7800e726f97"
     ]
    },
    "executionInfo": {
     "elapsed": 5696,
     "status": "ok",
     "timestamp": 1748338851847,
     "user": {
      "displayName": "Pier Felice Balestrucci",
      "userId": "15689117121183376962"
     },
     "user_tz": -120
    },
    "id": "Xp6JyVtq_SK5",
    "outputId": "e5106e87-01db-46c1-ca2a-90eeb82f8def"
   },
   "outputs": [
    {
     "name": "stderr",
     "output_type": "stream",
     "text": [
      "Generating train split: 100%|██████████| 94342/94342 [00:01<00:00, 79124.82 examples/s]\n"
     ]
    }
   ],
   "source": [
    "ds = load_dataset(\"Multilingual-Perspectivist-NLU/MultiPICo\")"
   ]
  },
  {
   "cell_type": "code",
   "execution_count": 4,
   "metadata": {
    "executionInfo": {
     "elapsed": 203,
     "status": "ok",
     "timestamp": 1748339083171,
     "user": {
      "displayName": "Pier Felice Balestrucci",
      "userId": "15689117121183376962"
     },
     "user_tz": -120
    },
    "id": "ltnbqVWr6R9Y"
   },
   "outputs": [],
   "source": [
    "dataset = ds[\"train\"]\n",
    "df = dataset.to_pandas()"
   ]
  },
  {
   "cell_type": "markdown",
   "metadata": {
    "id": "6ymN6HgBTQH0"
   },
   "source": [
    "COLONNE df_ita \\\n",
    "\n",
    "\"label\" = label assegnata da ciascun annotatore al testo \\\n",
    "\"timestamp\" = data e ora di completamento dell'annotazione (a livello di testo) \\\n",
    "\"level\" = livello del commento (raramente ci sono commenti di secondo livello. In quel caso il rapporto tra post e reply rischia di essere meno chiaro) \\\n",
    "\"source\" = fonte del commento (reddit o twitter) \\\n",
    "\"reply\" = testo a cui gli annonatori hanno assegnato la label \\\n",
    "\"post\" = contesto della reply \\\n",
    "\"language\" = lingua del testo \\\n",
    "\"language_variety\" = varietà linguistica del testo \\\n",
    "\"post_id\" = id del post \\\n",
    "\"majority_vote\" = majority label \\\n",
    "\\\n",
    "\\\n",
    "DATI DEMOGRAFICI: \\\n",
    "'Age' = età di ogni annotatore (il task è stato completato nel 2023) \\\n",
    "'Gender' = genere binario \\\n",
    "'Ethnicity simplified' = etnia \\\n",
    "'Country of birth' = dove è nato \\\n",
    "'Country of residence' = dove risiede \\\n",
    "'Nationality' = nazionalità. Questa colonna è stata utilizzata per inferira la prima lingua dell'annotatore \\\n",
    "'Student status' = label binaria (Yes, No) \\\n",
    "'Employment status' = più opzioni possibili, con un buon grado di granularità \\\n",
    "'Generation' = Generazione di ciascun annotatore \\\n",
    "'GenerationAggregated' = binario (Young, Old) \\\n",
    "'Employed' = Employment status aggregato (Yes, No)\n",
    "\n"
   ]
  },
  {
   "cell_type": "code",
   "execution_count": 5,
   "metadata": {
    "colab": {
     "base_uri": "https://localhost:8080/"
    },
    "executionInfo": {
     "elapsed": 21,
     "status": "ok",
     "timestamp": 1748339092892,
     "user": {
      "displayName": "Pier Felice Balestrucci",
      "userId": "15689117121183376962"
     },
     "user_tz": -120
    },
    "id": "ijNyHiAr9xCk",
    "outputId": "1ab59dbc-ff82-4d7e-b023-3d8f705afadb"
   },
   "outputs": [
    {
     "name": "stderr",
     "output_type": "stream",
     "text": [
      "C:\\Users\\micha\\AppData\\Local\\Temp\\ipykernel_8324\\501556012.py:2: SettingWithCopyWarning: \n",
      "A value is trying to be set on a copy of a slice from a DataFrame.\n",
      "Try using .loc[row_indexer,col_indexer] = value instead\n",
      "\n",
      "See the caveats in the documentation: https://pandas.pydata.org/pandas-docs/stable/user_guide/indexing.html#returning-a-view-versus-a-copy\n",
      "  df_ita[\"label\"] = df[\"label\"].astype(int)\n"
     ]
    },
    {
     "data": {
      "text/plain": [
       "(4790, 22)"
      ]
     },
     "execution_count": 5,
     "metadata": {},
     "output_type": "execute_result"
    }
   ],
   "source": [
    "df_ita = df[df[\"language\"] == \"it\"]\n",
    "df_ita[\"label\"] = df[\"label\"].astype(int)\n",
    "df_ita.shape"
   ]
  },
  {
   "cell_type": "code",
   "execution_count": 6,
   "metadata": {
    "executionInfo": {
     "elapsed": 306,
     "status": "ok",
     "timestamp": 1748339094954,
     "user": {
      "displayName": "Pier Felice Balestrucci",
      "userId": "15689117121183376962"
     },
     "user_tz": -120
    },
    "id": "uYWz2aai97lq"
   },
   "outputs": [],
   "source": [
    "# Majority vote function\n",
    "def compute_majority(series):\n",
    "    count_0 = (series == 0).sum()\n",
    "    count_1 = (series == 1).sum()\n",
    "    if count_0 > count_1:\n",
    "        return 0\n",
    "    elif count_1 > count_0:\n",
    "        return 1\n",
    "    else:\n",
    "        return 'both'\n",
    "\n",
    "# Compute majority per group and map back\n",
    "majority_votes = df_ita.groupby('reply_id')['label'].apply(compute_majority)\n",
    "\n"
   ]
  },
  {
   "cell_type": "code",
   "execution_count": 7,
   "metadata": {
    "colab": {
     "base_uri": "https://localhost:8080/"
    },
    "executionInfo": {
     "elapsed": 7,
     "status": "ok",
     "timestamp": 1748339113455,
     "user": {
      "displayName": "Pier Felice Balestrucci",
      "userId": "15689117121183376962"
     },
     "user_tz": -120
    },
    "id": "uL7trksd_Ym6",
    "outputId": "b0c58166-1ed4-4020-8003-84a18be49e35"
   },
   "outputs": [
    {
     "name": "stderr",
     "output_type": "stream",
     "text": [
      "C:\\Users\\micha\\AppData\\Local\\Temp\\ipykernel_8324\\188802293.py:1: SettingWithCopyWarning: \n",
      "A value is trying to be set on a copy of a slice from a DataFrame.\n",
      "Try using .loc[row_indexer,col_indexer] = value instead\n",
      "\n",
      "See the caveats in the documentation: https://pandas.pydata.org/pandas-docs/stable/user_guide/indexing.html#returning-a-view-versus-a-copy\n",
      "  df_ita['majority_vote'] = df_ita['reply_id'].map(majority_votes)\n"
     ]
    }
   ],
   "source": [
    "df_ita['majority_vote'] = df_ita['reply_id'].map(majority_votes)"
   ]
  },
  {
   "cell_type": "markdown",
   "metadata": {
    "id": "bfyPPJKNR0wr"
   },
   "source": [
    "-------------------------------------------\n",
    "\\\n",
    "COLONNE df_ita_gold \\\n",
    "\n",
    "\"level\" = livello del commento (raramente ci sono commenti di secondo livello. In quel caso il rapporto tra post e reply rischia di essere meno chiaro) \\\n",
    "\"source\" = fonte del commento (reddit o twitter) \\\n",
    "\"reply\" = testo a cui gli annonatori hanno assegnato la label \\\n",
    "\"post\" = contesto della reply \\\n",
    "\"language\" = lingua del testo \\\n",
    "\"language_variety\" = varietà linguistica del testo \\\n",
    "\"reply_id\" = id della reply \\\n",
    "\"post_id\" = id del post \\\n",
    "\"majority_vote\" = majority label"
   ]
  },
  {
   "cell_type": "code",
   "execution_count": 8,
   "metadata": {
    "colab": {
     "base_uri": "https://localhost:8080/"
    },
    "executionInfo": {
     "elapsed": 10,
     "status": "ok",
     "timestamp": 1748339126624,
     "user": {
      "displayName": "Pier Felice Balestrucci",
      "userId": "15689117121183376962"
     },
     "user_tz": -120
    },
    "id": "UqVTARHXD-Fu",
    "outputId": "cdb7c179-dd6b-4c3a-a9d5-85cb6f3e39d2"
   },
   "outputs": [
    {
     "name": "stdout",
     "output_type": "stream",
     "text": [
      "majority_vote\n",
      "0       722\n",
      "1       245\n",
      "both     33\n",
      "Name: count, dtype: int64\n"
     ]
    }
   ],
   "source": [
    "df_ita_gold = df_ita.drop_duplicates(subset=\"reply_id\")\n",
    "df_ita_gold = df_ita_gold[['level', 'source', 'reply', 'post', 'language',\n",
    "       'language_variety', 'reply_id',\n",
    "       'post_id', 'majority_vote']]\n",
    "\n",
    "print(df_ita_gold[\"majority_vote\"].value_counts())"
   ]
  },
  {
   "cell_type": "code",
   "execution_count": 9,
   "metadata": {
    "executionInfo": {
     "elapsed": 154,
     "status": "ok",
     "timestamp": 1748339147915,
     "user": {
      "displayName": "Pier Felice Balestrucci",
      "userId": "15689117121183376962"
     },
     "user_tz": -120
    },
    "id": "ktWvJVjiPa_d"
   },
   "outputs": [],
   "source": [
    "df_ita.to_csv(\"multipico_ita.csv\")\n",
    "df_ita_gold.to_csv(\"multipico_ita_gold.csv\")"
   ]
  },
  {
   "cell_type": "code",
   "execution_count": 10,
   "metadata": {
    "colab": {
     "base_uri": "https://localhost:8080/",
     "height": 423
    },
    "executionInfo": {
     "elapsed": 94,
     "status": "ok",
     "timestamp": 1748339154266,
     "user": {
      "displayName": "Pier Felice Balestrucci",
      "userId": "15689117121183376962"
     },
     "user_tz": -120
    },
    "id": "OdfgqseAPesT",
    "outputId": "1d370266-11b8-4ace-bc55-9e86cdc03625"
   },
   "outputs": [
    {
     "data": {
      "text/html": [
       "<div>\n",
       "<style scoped>\n",
       "    .dataframe tbody tr th:only-of-type {\n",
       "        vertical-align: middle;\n",
       "    }\n",
       "\n",
       "    .dataframe tbody tr th {\n",
       "        vertical-align: top;\n",
       "    }\n",
       "\n",
       "    .dataframe thead th {\n",
       "        text-align: right;\n",
       "    }\n",
       "</style>\n",
       "<table border=\"1\" class=\"dataframe\">\n",
       "  <thead>\n",
       "    <tr style=\"text-align: right;\">\n",
       "      <th></th>\n",
       "      <th>level</th>\n",
       "      <th>source</th>\n",
       "      <th>reply</th>\n",
       "      <th>post</th>\n",
       "      <th>language</th>\n",
       "      <th>language_variety</th>\n",
       "      <th>reply_id</th>\n",
       "      <th>post_id</th>\n",
       "      <th>majority_vote</th>\n",
       "    </tr>\n",
       "  </thead>\n",
       "  <tbody>\n",
       "    <tr>\n",
       "      <th>14171</th>\n",
       "      <td>1.0</td>\n",
       "      <td>twitter</td>\n",
       "      <td>@USER ... O esaltandolo..</td>\n",
       "      <td>Il silenzio e come un fiume di sabbia         ...</td>\n",
       "      <td>it</td>\n",
       "      <td>it</td>\n",
       "      <td>9496337119089889126</td>\n",
       "      <td>7357414994945043930</td>\n",
       "      <td>0</td>\n",
       "    </tr>\n",
       "    <tr>\n",
       "      <th>14172</th>\n",
       "      <td>1.0</td>\n",
       "      <td>reddit</td>\n",
       "      <td>Calma, queste sono direttive date proprio dall...</td>\n",
       "      <td>Se il commesso continuerà a fare muro, egli sa...</td>\n",
       "      <td>it</td>\n",
       "      <td>it</td>\n",
       "      <td>15597092344066966299</td>\n",
       "      <td>6535513880047527192</td>\n",
       "      <td>0</td>\n",
       "    </tr>\n",
       "    <tr>\n",
       "      <th>14173</th>\n",
       "      <td>2.0</td>\n",
       "      <td>twitter</td>\n",
       "      <td>@USER  @USER Anche per rompere il ghiaccio</td>\n",
       "      <td>@USER Gianca già che ci sei regalale un paio d...</td>\n",
       "      <td>it</td>\n",
       "      <td>it</td>\n",
       "      <td>15902869978243358740</td>\n",
       "      <td>7961696982295378594</td>\n",
       "      <td>1</td>\n",
       "    </tr>\n",
       "    <tr>\n",
       "      <th>14174</th>\n",
       "      <td>1.0</td>\n",
       "      <td>reddit</td>\n",
       "      <td>&gt;PS se hai la pelle sensibile evita il rasoio ...</td>\n",
       "      <td>Io uso sia il rasoio di sicurezza che lo shave...</td>\n",
       "      <td>it</td>\n",
       "      <td>it</td>\n",
       "      <td>13889809461410309670</td>\n",
       "      <td>9739175578440028850</td>\n",
       "      <td>0</td>\n",
       "    </tr>\n",
       "    <tr>\n",
       "      <th>14175</th>\n",
       "      <td>1.0</td>\n",
       "      <td>reddit</td>\n",
       "      <td>Lo dissi tempo fa in un thread analogo: gli HR...</td>\n",
       "      <td>Non l'ultimo che ho fatto (l'ultimo che ho fat...</td>\n",
       "      <td>it</td>\n",
       "      <td>it</td>\n",
       "      <td>4110758050476660806</td>\n",
       "      <td>12650296792333791569</td>\n",
       "      <td>0</td>\n",
       "    </tr>\n",
       "    <tr>\n",
       "      <th>...</th>\n",
       "      <td>...</td>\n",
       "      <td>...</td>\n",
       "      <td>...</td>\n",
       "      <td>...</td>\n",
       "      <td>...</td>\n",
       "      <td>...</td>\n",
       "      <td>...</td>\n",
       "      <td>...</td>\n",
       "      <td>...</td>\n",
       "    </tr>\n",
       "    <tr>\n",
       "      <th>17124</th>\n",
       "      <td>1.0</td>\n",
       "      <td>twitter</td>\n",
       "      <td>@USER In teoria prude perché la ferita si sta ...</td>\n",
       "      <td>ragaaa è normale che mi prede tutto il braccio...</td>\n",
       "      <td>it</td>\n",
       "      <td>it</td>\n",
       "      <td>7947987642681870192</td>\n",
       "      <td>16233718987500342344</td>\n",
       "      <td>0</td>\n",
       "    </tr>\n",
       "    <tr>\n",
       "      <th>17160</th>\n",
       "      <td>2.0</td>\n",
       "      <td>twitter</td>\n",
       "      <td>@USER Buongiorno ❄️☕️??</td>\n",
       "      <td>@USER Buongiorno ⛈️⛈️</td>\n",
       "      <td>it</td>\n",
       "      <td>it</td>\n",
       "      <td>17727788295477306407</td>\n",
       "      <td>9676017290322369006</td>\n",
       "      <td>0</td>\n",
       "    </tr>\n",
       "    <tr>\n",
       "      <th>17222</th>\n",
       "      <td>1.0</td>\n",
       "      <td>reddit</td>\n",
       "      <td>Se non sono parigini, ti troverai bene /s\\nCer...</td>\n",
       "      <td>Tra pochi giorni dovrei partire per la Francia...</td>\n",
       "      <td>it</td>\n",
       "      <td>it</td>\n",
       "      <td>10645757515167341739</td>\n",
       "      <td>18264849717665170848</td>\n",
       "      <td>0</td>\n",
       "    </tr>\n",
       "    <tr>\n",
       "      <th>17243</th>\n",
       "      <td>1.0</td>\n",
       "      <td>reddit</td>\n",
       "      <td>Lol wut? Che tranquillità che stanno seminando...</td>\n",
       "      <td>Mi manda al manicomio tutta questa tranquillit...</td>\n",
       "      <td>it</td>\n",
       "      <td>it</td>\n",
       "      <td>9796451987259776883</td>\n",
       "      <td>16670462493773561266</td>\n",
       "      <td>both</td>\n",
       "    </tr>\n",
       "    <tr>\n",
       "      <th>17276</th>\n",
       "      <td>2.0</td>\n",
       "      <td>twitter</td>\n",
       "      <td>@USER  @USER Ed essendo più intelligente di lo...</td>\n",
       "      <td>@USER Però la mozzarella fa il siero</td>\n",
       "      <td>it</td>\n",
       "      <td>it</td>\n",
       "      <td>6139492952631494407</td>\n",
       "      <td>3235436336349621631</td>\n",
       "      <td>1</td>\n",
       "    </tr>\n",
       "  </tbody>\n",
       "</table>\n",
       "<p>1000 rows × 9 columns</p>\n",
       "</div>"
      ],
      "text/plain": [
       "       level   source                                              reply  \\\n",
       "14171    1.0  twitter                          @USER ... O esaltandolo..   \n",
       "14172    1.0   reddit  Calma, queste sono direttive date proprio dall...   \n",
       "14173    2.0  twitter         @USER  @USER Anche per rompere il ghiaccio   \n",
       "14174    1.0   reddit  >PS se hai la pelle sensibile evita il rasoio ...   \n",
       "14175    1.0   reddit  Lo dissi tempo fa in un thread analogo: gli HR...   \n",
       "...      ...      ...                                                ...   \n",
       "17124    1.0  twitter  @USER In teoria prude perché la ferita si sta ...   \n",
       "17160    2.0  twitter                            @USER Buongiorno ❄️☕️??   \n",
       "17222    1.0   reddit  Se non sono parigini, ti troverai bene /s\\nCer...   \n",
       "17243    1.0   reddit  Lol wut? Che tranquillità che stanno seminando...   \n",
       "17276    2.0  twitter  @USER  @USER Ed essendo più intelligente di lo...   \n",
       "\n",
       "                                                    post language  \\\n",
       "14171  Il silenzio e come un fiume di sabbia         ...       it   \n",
       "14172  Se il commesso continuerà a fare muro, egli sa...       it   \n",
       "14173  @USER Gianca già che ci sei regalale un paio d...       it   \n",
       "14174  Io uso sia il rasoio di sicurezza che lo shave...       it   \n",
       "14175  Non l'ultimo che ho fatto (l'ultimo che ho fat...       it   \n",
       "...                                                  ...      ...   \n",
       "17124  ragaaa è normale che mi prede tutto il braccio...       it   \n",
       "17160                              @USER Buongiorno ⛈️⛈️       it   \n",
       "17222  Tra pochi giorni dovrei partire per la Francia...       it   \n",
       "17243  Mi manda al manicomio tutta questa tranquillit...       it   \n",
       "17276               @USER Però la mozzarella fa il siero       it   \n",
       "\n",
       "      language_variety              reply_id               post_id  \\\n",
       "14171               it   9496337119089889126   7357414994945043930   \n",
       "14172               it  15597092344066966299   6535513880047527192   \n",
       "14173               it  15902869978243358740   7961696982295378594   \n",
       "14174               it  13889809461410309670   9739175578440028850   \n",
       "14175               it   4110758050476660806  12650296792333791569   \n",
       "...                ...                   ...                   ...   \n",
       "17124               it   7947987642681870192  16233718987500342344   \n",
       "17160               it  17727788295477306407   9676017290322369006   \n",
       "17222               it  10645757515167341739  18264849717665170848   \n",
       "17243               it   9796451987259776883  16670462493773561266   \n",
       "17276               it   6139492952631494407   3235436336349621631   \n",
       "\n",
       "      majority_vote  \n",
       "14171             0  \n",
       "14172             0  \n",
       "14173             1  \n",
       "14174             0  \n",
       "14175             0  \n",
       "...             ...  \n",
       "17124             0  \n",
       "17160             0  \n",
       "17222             0  \n",
       "17243          both  \n",
       "17276             1  \n",
       "\n",
       "[1000 rows x 9 columns]"
      ]
     },
     "execution_count": 10,
     "metadata": {},
     "output_type": "execute_result"
    }
   ],
   "source": [
    "df_ita_gold"
   ]
  },
  {
   "cell_type": "code",
   "execution_count": 11,
   "metadata": {
    "executionInfo": {
     "elapsed": 36,
     "status": "ok",
     "timestamp": 1748339239090,
     "user": {
      "displayName": "Pier Felice Balestrucci",
      "userId": "15689117121183376962"
     },
     "user_tz": -120
    },
    "id": "1bTee_t5Izgx"
   },
   "outputs": [],
   "source": [
    "# Save the dataframe to a CSV file\n",
    "df_ita_gold.to_csv('df_ita_gold.csv', index=False)"
   ]
  },
  {
   "cell_type": "code",
   "execution_count": 12,
   "metadata": {
    "colab": {
     "base_uri": "https://localhost:8080/"
    },
    "executionInfo": {
     "elapsed": 12,
     "status": "ok",
     "timestamp": 1748339348247,
     "user": {
      "displayName": "Pier Felice Balestrucci",
      "userId": "15689117121183376962"
     },
     "user_tz": -120
    },
    "id": "MxjRmvalVUG-",
    "outputId": "6aaa6d78-96ef-4f73-807a-3d658f7b4e03"
   },
   "outputs": [
    {
     "name": "stdout",
     "output_type": "stream",
     "text": [
      "Number of rows with majority vote 1 or both: 278\n"
     ]
    }
   ],
   "source": [
    "# prompt: save the csv if the rows have majority vote equals to 1 or both. print the number of the roews\n",
    "\n",
    "# Filter rows where 'majority_vote' is 1 or 'both'\n",
    "df_filtered = df_ita_gold[df_ita_gold['majority_vote'].isin([1, 'both'])]\n",
    "\n",
    "# Print the number of rows in the filtered dataframe\n",
    "print(f\"Number of rows with majority vote 1 or both: {len(df_filtered)}\")\n",
    "\n",
    "# Save the filtered dataframe to a new CSV file\n",
    "df_filtered.to_csv('multipico_ita_filtered.csv', index=False)"
   ]
  }
 ],
 "metadata": {
  "colab": {
   "provenance": []
  },
  "kernelspec": {
   "display_name": "venv",
   "language": "python",
   "name": "python3"
  },
  "language_info": {
   "codemirror_mode": {
    "name": "ipython",
    "version": 3
   },
   "file_extension": ".py",
   "mimetype": "text/x-python",
   "name": "python",
   "nbconvert_exporter": "python",
   "pygments_lexer": "ipython3",
   "version": "3.12.3"
  },
  "widgets": {
   "application/vnd.jupyter.widget-state+json": {
    "03749d1b43304b4489b70ff697612bfc": {
     "model_module": "@jupyter-widgets/base",
     "model_module_version": "1.2.0",
     "model_name": "LayoutModel",
     "state": {
      "_model_module": "@jupyter-widgets/base",
      "_model_module_version": "1.2.0",
      "_model_name": "LayoutModel",
      "_view_count": null,
      "_view_module": "@jupyter-widgets/base",
      "_view_module_version": "1.2.0",
      "_view_name": "LayoutView",
      "align_content": null,
      "align_items": null,
      "align_self": null,
      "border": null,
      "bottom": null,
      "display": null,
      "flex": null,
      "flex_flow": null,
      "grid_area": null,
      "grid_auto_columns": null,
      "grid_auto_flow": null,
      "grid_auto_rows": null,
      "grid_column": null,
      "grid_gap": null,
      "grid_row": null,
      "grid_template_areas": null,
      "grid_template_columns": null,
      "grid_template_rows": null,
      "height": null,
      "justify_content": null,
      "justify_items": null,
      "left": null,
      "margin": null,
      "max_height": null,
      "max_width": null,
      "min_height": null,
      "min_width": null,
      "object_fit": null,
      "object_position": null,
      "order": null,
      "overflow": null,
      "overflow_x": null,
      "overflow_y": null,
      "padding": null,
      "right": null,
      "top": null,
      "visibility": null,
      "width": null
     }
    },
    "0428cac2e6774c05a6b2d3b43e630437": {
     "model_module": "@jupyter-widgets/base",
     "model_module_version": "1.2.0",
     "model_name": "LayoutModel",
     "state": {
      "_model_module": "@jupyter-widgets/base",
      "_model_module_version": "1.2.0",
      "_model_name": "LayoutModel",
      "_view_count": null,
      "_view_module": "@jupyter-widgets/base",
      "_view_module_version": "1.2.0",
      "_view_name": "LayoutView",
      "align_content": null,
      "align_items": null,
      "align_self": null,
      "border": null,
      "bottom": null,
      "display": null,
      "flex": null,
      "flex_flow": null,
      "grid_area": null,
      "grid_auto_columns": null,
      "grid_auto_flow": null,
      "grid_auto_rows": null,
      "grid_column": null,
      "grid_gap": null,
      "grid_row": null,
      "grid_template_areas": null,
      "grid_template_columns": null,
      "grid_template_rows": null,
      "height": null,
      "justify_content": null,
      "justify_items": null,
      "left": null,
      "margin": null,
      "max_height": null,
      "max_width": null,
      "min_height": null,
      "min_width": null,
      "object_fit": null,
      "object_position": null,
      "order": null,
      "overflow": null,
      "overflow_x": null,
      "overflow_y": null,
      "padding": null,
      "right": null,
      "top": null,
      "visibility": null,
      "width": null
     }
    },
    "0818a69bc7cd4309b09db7800e726f97": {
     "model_module": "@jupyter-widgets/controls",
     "model_module_version": "1.5.0",
     "model_name": "DescriptionStyleModel",
     "state": {
      "_model_module": "@jupyter-widgets/controls",
      "_model_module_version": "1.5.0",
      "_model_name": "DescriptionStyleModel",
      "_view_count": null,
      "_view_module": "@jupyter-widgets/base",
      "_view_module_version": "1.2.0",
      "_view_name": "StyleView",
      "description_width": ""
     }
    },
    "2475080108874b678fed4a4b876f52bf": {
     "model_module": "@jupyter-widgets/base",
     "model_module_version": "1.2.0",
     "model_name": "LayoutModel",
     "state": {
      "_model_module": "@jupyter-widgets/base",
      "_model_module_version": "1.2.0",
      "_model_name": "LayoutModel",
      "_view_count": null,
      "_view_module": "@jupyter-widgets/base",
      "_view_module_version": "1.2.0",
      "_view_name": "LayoutView",
      "align_content": null,
      "align_items": null,
      "align_self": null,
      "border": null,
      "bottom": null,
      "display": null,
      "flex": null,
      "flex_flow": null,
      "grid_area": null,
      "grid_auto_columns": null,
      "grid_auto_flow": null,
      "grid_auto_rows": null,
      "grid_column": null,
      "grid_gap": null,
      "grid_row": null,
      "grid_template_areas": null,
      "grid_template_columns": null,
      "grid_template_rows": null,
      "height": null,
      "justify_content": null,
      "justify_items": null,
      "left": null,
      "margin": null,
      "max_height": null,
      "max_width": null,
      "min_height": null,
      "min_width": null,
      "object_fit": null,
      "object_position": null,
      "order": null,
      "overflow": null,
      "overflow_x": null,
      "overflow_y": null,
      "padding": null,
      "right": null,
      "top": null,
      "visibility": null,
      "width": null
     }
    },
    "24f94f5a9b64471ba72b562411e46344": {
     "model_module": "@jupyter-widgets/base",
     "model_module_version": "1.2.0",
     "model_name": "LayoutModel",
     "state": {
      "_model_module": "@jupyter-widgets/base",
      "_model_module_version": "1.2.0",
      "_model_name": "LayoutModel",
      "_view_count": null,
      "_view_module": "@jupyter-widgets/base",
      "_view_module_version": "1.2.0",
      "_view_name": "LayoutView",
      "align_content": null,
      "align_items": null,
      "align_self": null,
      "border": null,
      "bottom": null,
      "display": null,
      "flex": null,
      "flex_flow": null,
      "grid_area": null,
      "grid_auto_columns": null,
      "grid_auto_flow": null,
      "grid_auto_rows": null,
      "grid_column": null,
      "grid_gap": null,
      "grid_row": null,
      "grid_template_areas": null,
      "grid_template_columns": null,
      "grid_template_rows": null,
      "height": null,
      "justify_content": null,
      "justify_items": null,
      "left": null,
      "margin": null,
      "max_height": null,
      "max_width": null,
      "min_height": null,
      "min_width": null,
      "object_fit": null,
      "object_position": null,
      "order": null,
      "overflow": null,
      "overflow_x": null,
      "overflow_y": null,
      "padding": null,
      "right": null,
      "top": null,
      "visibility": null,
      "width": null
     }
    },
    "295a57702c764d499d49dbd7636a3458": {
     "model_module": "@jupyter-widgets/controls",
     "model_module_version": "1.5.0",
     "model_name": "HTMLModel",
     "state": {
      "_dom_classes": [],
      "_model_module": "@jupyter-widgets/controls",
      "_model_module_version": "1.5.0",
      "_model_name": "HTMLModel",
      "_view_count": null,
      "_view_module": "@jupyter-widgets/controls",
      "_view_module_version": "1.5.0",
      "_view_name": "HTMLView",
      "description": "",
      "description_tooltip": null,
      "layout": "IPY_MODEL_03749d1b43304b4489b70ff697612bfc",
      "placeholder": "​",
      "style": "IPY_MODEL_35b89742078b4473ab94e6372c1da1ae",
      "value": "multipico_anonimized.csv: 100%"
     }
    },
    "2fa2064bbb6c443b95eb86efb014cc16": {
     "model_module": "@jupyter-widgets/controls",
     "model_module_version": "1.5.0",
     "model_name": "ProgressStyleModel",
     "state": {
      "_model_module": "@jupyter-widgets/controls",
      "_model_module_version": "1.5.0",
      "_model_name": "ProgressStyleModel",
      "_view_count": null,
      "_view_module": "@jupyter-widgets/base",
      "_view_module_version": "1.2.0",
      "_view_name": "StyleView",
      "bar_color": null,
      "description_width": ""
     }
    },
    "35b89742078b4473ab94e6372c1da1ae": {
     "model_module": "@jupyter-widgets/controls",
     "model_module_version": "1.5.0",
     "model_name": "DescriptionStyleModel",
     "state": {
      "_model_module": "@jupyter-widgets/controls",
      "_model_module_version": "1.5.0",
      "_model_name": "DescriptionStyleModel",
      "_view_count": null,
      "_view_module": "@jupyter-widgets/base",
      "_view_module_version": "1.2.0",
      "_view_name": "StyleView",
      "description_width": ""
     }
    },
    "3784dd6bb3dd4c6fb5f2fc7fe755ecf0": {
     "model_module": "@jupyter-widgets/controls",
     "model_module_version": "1.5.0",
     "model_name": "ProgressStyleModel",
     "state": {
      "_model_module": "@jupyter-widgets/controls",
      "_model_module_version": "1.5.0",
      "_model_name": "ProgressStyleModel",
      "_view_count": null,
      "_view_module": "@jupyter-widgets/base",
      "_view_module_version": "1.2.0",
      "_view_name": "StyleView",
      "bar_color": null,
      "description_width": ""
     }
    },
    "3b9c1925ac6a444787a038d4cd631f87": {
     "model_module": "@jupyter-widgets/controls",
     "model_module_version": "1.5.0",
     "model_name": "FloatProgressModel",
     "state": {
      "_dom_classes": [],
      "_model_module": "@jupyter-widgets/controls",
      "_model_module_version": "1.5.0",
      "_model_name": "FloatProgressModel",
      "_view_count": null,
      "_view_module": "@jupyter-widgets/controls",
      "_view_module_version": "1.5.0",
      "_view_name": "ProgressView",
      "bar_style": "success",
      "description": "",
      "description_tooltip": null,
      "layout": "IPY_MODEL_e185796cf58345d1a2210f5fc9c2fecb",
      "max": 47890346,
      "min": 0,
      "orientation": "horizontal",
      "style": "IPY_MODEL_2fa2064bbb6c443b95eb86efb014cc16",
      "value": 47890346
     }
    },
    "3ead94994ecc43ecaf8f35feb6439f87": {
     "model_module": "@jupyter-widgets/controls",
     "model_module_version": "1.5.0",
     "model_name": "DescriptionStyleModel",
     "state": {
      "_model_module": "@jupyter-widgets/controls",
      "_model_module_version": "1.5.0",
      "_model_name": "DescriptionStyleModel",
      "_view_count": null,
      "_view_module": "@jupyter-widgets/base",
      "_view_module_version": "1.2.0",
      "_view_name": "StyleView",
      "description_width": ""
     }
    },
    "4512e2504c79401eb2628e94a4133fe1": {
     "model_module": "@jupyter-widgets/controls",
     "model_module_version": "1.5.0",
     "model_name": "HBoxModel",
     "state": {
      "_dom_classes": [],
      "_model_module": "@jupyter-widgets/controls",
      "_model_module_version": "1.5.0",
      "_model_name": "HBoxModel",
      "_view_count": null,
      "_view_module": "@jupyter-widgets/controls",
      "_view_module_version": "1.5.0",
      "_view_name": "HBoxView",
      "box_style": "",
      "children": [
       "IPY_MODEL_d2b9b829c60644558c51f5251cb94835",
       "IPY_MODEL_c2fb06aaa5834aecbdbc2c308368a544",
       "IPY_MODEL_c2d58b146018402a984c6b0f3f12a236"
      ],
      "layout": "IPY_MODEL_4d507c344d6f4d629f6390fa45dd181c"
     }
    },
    "4d507c344d6f4d629f6390fa45dd181c": {
     "model_module": "@jupyter-widgets/base",
     "model_module_version": "1.2.0",
     "model_name": "LayoutModel",
     "state": {
      "_model_module": "@jupyter-widgets/base",
      "_model_module_version": "1.2.0",
      "_model_name": "LayoutModel",
      "_view_count": null,
      "_view_module": "@jupyter-widgets/base",
      "_view_module_version": "1.2.0",
      "_view_name": "LayoutView",
      "align_content": null,
      "align_items": null,
      "align_self": null,
      "border": null,
      "bottom": null,
      "display": null,
      "flex": null,
      "flex_flow": null,
      "grid_area": null,
      "grid_auto_columns": null,
      "grid_auto_flow": null,
      "grid_auto_rows": null,
      "grid_column": null,
      "grid_gap": null,
      "grid_row": null,
      "grid_template_areas": null,
      "grid_template_columns": null,
      "grid_template_rows": null,
      "height": null,
      "justify_content": null,
      "justify_items": null,
      "left": null,
      "margin": null,
      "max_height": null,
      "max_width": null,
      "min_height": null,
      "min_width": null,
      "object_fit": null,
      "object_position": null,
      "order": null,
      "overflow": null,
      "overflow_x": null,
      "overflow_y": null,
      "padding": null,
      "right": null,
      "top": null,
      "visibility": null,
      "width": null
     }
    },
    "5c299a333c40413d8510981d24ea352d": {
     "model_module": "@jupyter-widgets/base",
     "model_module_version": "1.2.0",
     "model_name": "LayoutModel",
     "state": {
      "_model_module": "@jupyter-widgets/base",
      "_model_module_version": "1.2.0",
      "_model_name": "LayoutModel",
      "_view_count": null,
      "_view_module": "@jupyter-widgets/base",
      "_view_module_version": "1.2.0",
      "_view_name": "LayoutView",
      "align_content": null,
      "align_items": null,
      "align_self": null,
      "border": null,
      "bottom": null,
      "display": null,
      "flex": null,
      "flex_flow": null,
      "grid_area": null,
      "grid_auto_columns": null,
      "grid_auto_flow": null,
      "grid_auto_rows": null,
      "grid_column": null,
      "grid_gap": null,
      "grid_row": null,
      "grid_template_areas": null,
      "grid_template_columns": null,
      "grid_template_rows": null,
      "height": null,
      "justify_content": null,
      "justify_items": null,
      "left": null,
      "margin": null,
      "max_height": null,
      "max_width": null,
      "min_height": null,
      "min_width": null,
      "object_fit": null,
      "object_position": null,
      "order": null,
      "overflow": null,
      "overflow_x": null,
      "overflow_y": null,
      "padding": null,
      "right": null,
      "top": null,
      "visibility": null,
      "width": null
     }
    },
    "62a4ae56c35d4766bd91888c827c2c0b": {
     "model_module": "@jupyter-widgets/controls",
     "model_module_version": "1.5.0",
     "model_name": "HTMLModel",
     "state": {
      "_dom_classes": [],
      "_model_module": "@jupyter-widgets/controls",
      "_model_module_version": "1.5.0",
      "_model_name": "HTMLModel",
      "_view_count": null,
      "_view_module": "@jupyter-widgets/controls",
      "_view_module_version": "1.5.0",
      "_view_name": "HTMLView",
      "description": "",
      "description_tooltip": null,
      "layout": "IPY_MODEL_24f94f5a9b64471ba72b562411e46344",
      "placeholder": "​",
      "style": "IPY_MODEL_f1fe35549ae548da86c644f692203298",
      "value": "Generating train split: 100%"
     }
    },
    "7083059ae69b4b1fbf27016e5f538752": {
     "model_module": "@jupyter-widgets/controls",
     "model_module_version": "1.5.0",
     "model_name": "DescriptionStyleModel",
     "state": {
      "_model_module": "@jupyter-widgets/controls",
      "_model_module_version": "1.5.0",
      "_model_name": "DescriptionStyleModel",
      "_view_count": null,
      "_view_module": "@jupyter-widgets/base",
      "_view_module_version": "1.2.0",
      "_view_name": "StyleView",
      "description_width": ""
     }
    },
    "84714012d9ab434bae9b9f62ac330a6f": {
     "model_module": "@jupyter-widgets/base",
     "model_module_version": "1.2.0",
     "model_name": "LayoutModel",
     "state": {
      "_model_module": "@jupyter-widgets/base",
      "_model_module_version": "1.2.0",
      "_model_name": "LayoutModel",
      "_view_count": null,
      "_view_module": "@jupyter-widgets/base",
      "_view_module_version": "1.2.0",
      "_view_name": "LayoutView",
      "align_content": null,
      "align_items": null,
      "align_self": null,
      "border": null,
      "bottom": null,
      "display": null,
      "flex": null,
      "flex_flow": null,
      "grid_area": null,
      "grid_auto_columns": null,
      "grid_auto_flow": null,
      "grid_auto_rows": null,
      "grid_column": null,
      "grid_gap": null,
      "grid_row": null,
      "grid_template_areas": null,
      "grid_template_columns": null,
      "grid_template_rows": null,
      "height": null,
      "justify_content": null,
      "justify_items": null,
      "left": null,
      "margin": null,
      "max_height": null,
      "max_width": null,
      "min_height": null,
      "min_width": null,
      "object_fit": null,
      "object_position": null,
      "order": null,
      "overflow": null,
      "overflow_x": null,
      "overflow_y": null,
      "padding": null,
      "right": null,
      "top": null,
      "visibility": null,
      "width": null
     }
    },
    "9959a171c49a486181b4a846402ae760": {
     "model_module": "@jupyter-widgets/base",
     "model_module_version": "1.2.0",
     "model_name": "LayoutModel",
     "state": {
      "_model_module": "@jupyter-widgets/base",
      "_model_module_version": "1.2.0",
      "_model_name": "LayoutModel",
      "_view_count": null,
      "_view_module": "@jupyter-widgets/base",
      "_view_module_version": "1.2.0",
      "_view_name": "LayoutView",
      "align_content": null,
      "align_items": null,
      "align_self": null,
      "border": null,
      "bottom": null,
      "display": null,
      "flex": null,
      "flex_flow": null,
      "grid_area": null,
      "grid_auto_columns": null,
      "grid_auto_flow": null,
      "grid_auto_rows": null,
      "grid_column": null,
      "grid_gap": null,
      "grid_row": null,
      "grid_template_areas": null,
      "grid_template_columns": null,
      "grid_template_rows": null,
      "height": null,
      "justify_content": null,
      "justify_items": null,
      "left": null,
      "margin": null,
      "max_height": null,
      "max_width": null,
      "min_height": null,
      "min_width": null,
      "object_fit": null,
      "object_position": null,
      "order": null,
      "overflow": null,
      "overflow_x": null,
      "overflow_y": null,
      "padding": null,
      "right": null,
      "top": null,
      "visibility": null,
      "width": null
     }
    },
    "9cc00904107c4bc0884e8d6d61075101": {
     "model_module": "@jupyter-widgets/base",
     "model_module_version": "1.2.0",
     "model_name": "LayoutModel",
     "state": {
      "_model_module": "@jupyter-widgets/base",
      "_model_module_version": "1.2.0",
      "_model_name": "LayoutModel",
      "_view_count": null,
      "_view_module": "@jupyter-widgets/base",
      "_view_module_version": "1.2.0",
      "_view_name": "LayoutView",
      "align_content": null,
      "align_items": null,
      "align_self": null,
      "border": null,
      "bottom": null,
      "display": null,
      "flex": null,
      "flex_flow": null,
      "grid_area": null,
      "grid_auto_columns": null,
      "grid_auto_flow": null,
      "grid_auto_rows": null,
      "grid_column": null,
      "grid_gap": null,
      "grid_row": null,
      "grid_template_areas": null,
      "grid_template_columns": null,
      "grid_template_rows": null,
      "height": null,
      "justify_content": null,
      "justify_items": null,
      "left": null,
      "margin": null,
      "max_height": null,
      "max_width": null,
      "min_height": null,
      "min_width": null,
      "object_fit": null,
      "object_position": null,
      "order": null,
      "overflow": null,
      "overflow_x": null,
      "overflow_y": null,
      "padding": null,
      "right": null,
      "top": null,
      "visibility": null,
      "width": null
     }
    },
    "a7d5d851d1214eef900a598d003b8431": {
     "model_module": "@jupyter-widgets/controls",
     "model_module_version": "1.5.0",
     "model_name": "HTMLModel",
     "state": {
      "_dom_classes": [],
      "_model_module": "@jupyter-widgets/controls",
      "_model_module_version": "1.5.0",
      "_model_name": "HTMLModel",
      "_view_count": null,
      "_view_module": "@jupyter-widgets/controls",
      "_view_module_version": "1.5.0",
      "_view_name": "HTMLView",
      "description": "",
      "description_tooltip": null,
      "layout": "IPY_MODEL_9cc00904107c4bc0884e8d6d61075101",
      "placeholder": "​",
      "style": "IPY_MODEL_0818a69bc7cd4309b09db7800e726f97",
      "value": " 94342/94342 [00:01&lt;00:00, 69864.76 examples/s]"
     }
    },
    "ae2911fbb45740be98fc69fab3ae64f4": {
     "model_module": "@jupyter-widgets/base",
     "model_module_version": "1.2.0",
     "model_name": "LayoutModel",
     "state": {
      "_model_module": "@jupyter-widgets/base",
      "_model_module_version": "1.2.0",
      "_model_name": "LayoutModel",
      "_view_count": null,
      "_view_module": "@jupyter-widgets/base",
      "_view_module_version": "1.2.0",
      "_view_name": "LayoutView",
      "align_content": null,
      "align_items": null,
      "align_self": null,
      "border": null,
      "bottom": null,
      "display": null,
      "flex": null,
      "flex_flow": null,
      "grid_area": null,
      "grid_auto_columns": null,
      "grid_auto_flow": null,
      "grid_auto_rows": null,
      "grid_column": null,
      "grid_gap": null,
      "grid_row": null,
      "grid_template_areas": null,
      "grid_template_columns": null,
      "grid_template_rows": null,
      "height": null,
      "justify_content": null,
      "justify_items": null,
      "left": null,
      "margin": null,
      "max_height": null,
      "max_width": null,
      "min_height": null,
      "min_width": null,
      "object_fit": null,
      "object_position": null,
      "order": null,
      "overflow": null,
      "overflow_x": null,
      "overflow_y": null,
      "padding": null,
      "right": null,
      "top": null,
      "visibility": null,
      "width": null
     }
    },
    "b2ab0c419ac543f7b856ccdd6a9fe71b": {
     "model_module": "@jupyter-widgets/controls",
     "model_module_version": "1.5.0",
     "model_name": "HTMLModel",
     "state": {
      "_dom_classes": [],
      "_model_module": "@jupyter-widgets/controls",
      "_model_module_version": "1.5.0",
      "_model_name": "HTMLModel",
      "_view_count": null,
      "_view_module": "@jupyter-widgets/controls",
      "_view_module_version": "1.5.0",
      "_view_name": "HTMLView",
      "description": "",
      "description_tooltip": null,
      "layout": "IPY_MODEL_2475080108874b678fed4a4b876f52bf",
      "placeholder": "​",
      "style": "IPY_MODEL_7083059ae69b4b1fbf27016e5f538752",
      "value": " 47.9M/47.9M [00:00&lt;00:00, 73.7MB/s]"
     }
    },
    "c2d58b146018402a984c6b0f3f12a236": {
     "model_module": "@jupyter-widgets/controls",
     "model_module_version": "1.5.0",
     "model_name": "HTMLModel",
     "state": {
      "_dom_classes": [],
      "_model_module": "@jupyter-widgets/controls",
      "_model_module_version": "1.5.0",
      "_model_name": "HTMLModel",
      "_view_count": null,
      "_view_module": "@jupyter-widgets/controls",
      "_view_module_version": "1.5.0",
      "_view_name": "HTMLView",
      "description": "",
      "description_tooltip": null,
      "layout": "IPY_MODEL_84714012d9ab434bae9b9f62ac330a6f",
      "placeholder": "​",
      "style": "IPY_MODEL_3ead94994ecc43ecaf8f35feb6439f87",
      "value": " 4.32k/4.32k [00:00&lt;00:00, 306kB/s]"
     }
    },
    "c2fb06aaa5834aecbdbc2c308368a544": {
     "model_module": "@jupyter-widgets/controls",
     "model_module_version": "1.5.0",
     "model_name": "FloatProgressModel",
     "state": {
      "_dom_classes": [],
      "_model_module": "@jupyter-widgets/controls",
      "_model_module_version": "1.5.0",
      "_model_name": "FloatProgressModel",
      "_view_count": null,
      "_view_module": "@jupyter-widgets/controls",
      "_view_module_version": "1.5.0",
      "_view_name": "ProgressView",
      "bar_style": "success",
      "description": "",
      "description_tooltip": null,
      "layout": "IPY_MODEL_5c299a333c40413d8510981d24ea352d",
      "max": 4324,
      "min": 0,
      "orientation": "horizontal",
      "style": "IPY_MODEL_d3ddc41628ba4b80ab15164ef9e023f7",
      "value": 4324
     }
    },
    "c474c4fa4d8049d1bdcdb9b2182f7ef4": {
     "model_module": "@jupyter-widgets/controls",
     "model_module_version": "1.5.0",
     "model_name": "HBoxModel",
     "state": {
      "_dom_classes": [],
      "_model_module": "@jupyter-widgets/controls",
      "_model_module_version": "1.5.0",
      "_model_name": "HBoxModel",
      "_view_count": null,
      "_view_module": "@jupyter-widgets/controls",
      "_view_module_version": "1.5.0",
      "_view_name": "HBoxView",
      "box_style": "",
      "children": [
       "IPY_MODEL_295a57702c764d499d49dbd7636a3458",
       "IPY_MODEL_3b9c1925ac6a444787a038d4cd631f87",
       "IPY_MODEL_b2ab0c419ac543f7b856ccdd6a9fe71b"
      ],
      "layout": "IPY_MODEL_9959a171c49a486181b4a846402ae760"
     }
    },
    "d2b9b829c60644558c51f5251cb94835": {
     "model_module": "@jupyter-widgets/controls",
     "model_module_version": "1.5.0",
     "model_name": "HTMLModel",
     "state": {
      "_dom_classes": [],
      "_model_module": "@jupyter-widgets/controls",
      "_model_module_version": "1.5.0",
      "_model_name": "HTMLModel",
      "_view_count": null,
      "_view_module": "@jupyter-widgets/controls",
      "_view_module_version": "1.5.0",
      "_view_name": "HTMLView",
      "description": "",
      "description_tooltip": null,
      "layout": "IPY_MODEL_ae2911fbb45740be98fc69fab3ae64f4",
      "placeholder": "​",
      "style": "IPY_MODEL_f22787fd29ad455781d860b1555f77fb",
      "value": "README.md: 100%"
     }
    },
    "d3ddc41628ba4b80ab15164ef9e023f7": {
     "model_module": "@jupyter-widgets/controls",
     "model_module_version": "1.5.0",
     "model_name": "ProgressStyleModel",
     "state": {
      "_model_module": "@jupyter-widgets/controls",
      "_model_module_version": "1.5.0",
      "_model_name": "ProgressStyleModel",
      "_view_count": null,
      "_view_module": "@jupyter-widgets/base",
      "_view_module_version": "1.2.0",
      "_view_name": "StyleView",
      "bar_color": null,
      "description_width": ""
     }
    },
    "d441a3e7763e4b2890a387aaeff75399": {
     "model_module": "@jupyter-widgets/controls",
     "model_module_version": "1.5.0",
     "model_name": "HBoxModel",
     "state": {
      "_dom_classes": [],
      "_model_module": "@jupyter-widgets/controls",
      "_model_module_version": "1.5.0",
      "_model_name": "HBoxModel",
      "_view_count": null,
      "_view_module": "@jupyter-widgets/controls",
      "_view_module_version": "1.5.0",
      "_view_name": "HBoxView",
      "box_style": "",
      "children": [
       "IPY_MODEL_62a4ae56c35d4766bd91888c827c2c0b",
       "IPY_MODEL_f5b1821e7f604dc0ab9f054686e396f7",
       "IPY_MODEL_a7d5d851d1214eef900a598d003b8431"
      ],
      "layout": "IPY_MODEL_0428cac2e6774c05a6b2d3b43e630437"
     }
    },
    "e185796cf58345d1a2210f5fc9c2fecb": {
     "model_module": "@jupyter-widgets/base",
     "model_module_version": "1.2.0",
     "model_name": "LayoutModel",
     "state": {
      "_model_module": "@jupyter-widgets/base",
      "_model_module_version": "1.2.0",
      "_model_name": "LayoutModel",
      "_view_count": null,
      "_view_module": "@jupyter-widgets/base",
      "_view_module_version": "1.2.0",
      "_view_name": "LayoutView",
      "align_content": null,
      "align_items": null,
      "align_self": null,
      "border": null,
      "bottom": null,
      "display": null,
      "flex": null,
      "flex_flow": null,
      "grid_area": null,
      "grid_auto_columns": null,
      "grid_auto_flow": null,
      "grid_auto_rows": null,
      "grid_column": null,
      "grid_gap": null,
      "grid_row": null,
      "grid_template_areas": null,
      "grid_template_columns": null,
      "grid_template_rows": null,
      "height": null,
      "justify_content": null,
      "justify_items": null,
      "left": null,
      "margin": null,
      "max_height": null,
      "max_width": null,
      "min_height": null,
      "min_width": null,
      "object_fit": null,
      "object_position": null,
      "order": null,
      "overflow": null,
      "overflow_x": null,
      "overflow_y": null,
      "padding": null,
      "right": null,
      "top": null,
      "visibility": null,
      "width": null
     }
    },
    "e7c775a45de84c6f92ace82f134e7a58": {
     "model_module": "@jupyter-widgets/base",
     "model_module_version": "1.2.0",
     "model_name": "LayoutModel",
     "state": {
      "_model_module": "@jupyter-widgets/base",
      "_model_module_version": "1.2.0",
      "_model_name": "LayoutModel",
      "_view_count": null,
      "_view_module": "@jupyter-widgets/base",
      "_view_module_version": "1.2.0",
      "_view_name": "LayoutView",
      "align_content": null,
      "align_items": null,
      "align_self": null,
      "border": null,
      "bottom": null,
      "display": null,
      "flex": null,
      "flex_flow": null,
      "grid_area": null,
      "grid_auto_columns": null,
      "grid_auto_flow": null,
      "grid_auto_rows": null,
      "grid_column": null,
      "grid_gap": null,
      "grid_row": null,
      "grid_template_areas": null,
      "grid_template_columns": null,
      "grid_template_rows": null,
      "height": null,
      "justify_content": null,
      "justify_items": null,
      "left": null,
      "margin": null,
      "max_height": null,
      "max_width": null,
      "min_height": null,
      "min_width": null,
      "object_fit": null,
      "object_position": null,
      "order": null,
      "overflow": null,
      "overflow_x": null,
      "overflow_y": null,
      "padding": null,
      "right": null,
      "top": null,
      "visibility": null,
      "width": null
     }
    },
    "f1fe35549ae548da86c644f692203298": {
     "model_module": "@jupyter-widgets/controls",
     "model_module_version": "1.5.0",
     "model_name": "DescriptionStyleModel",
     "state": {
      "_model_module": "@jupyter-widgets/controls",
      "_model_module_version": "1.5.0",
      "_model_name": "DescriptionStyleModel",
      "_view_count": null,
      "_view_module": "@jupyter-widgets/base",
      "_view_module_version": "1.2.0",
      "_view_name": "StyleView",
      "description_width": ""
     }
    },
    "f22787fd29ad455781d860b1555f77fb": {
     "model_module": "@jupyter-widgets/controls",
     "model_module_version": "1.5.0",
     "model_name": "DescriptionStyleModel",
     "state": {
      "_model_module": "@jupyter-widgets/controls",
      "_model_module_version": "1.5.0",
      "_model_name": "DescriptionStyleModel",
      "_view_count": null,
      "_view_module": "@jupyter-widgets/base",
      "_view_module_version": "1.2.0",
      "_view_name": "StyleView",
      "description_width": ""
     }
    },
    "f5b1821e7f604dc0ab9f054686e396f7": {
     "model_module": "@jupyter-widgets/controls",
     "model_module_version": "1.5.0",
     "model_name": "FloatProgressModel",
     "state": {
      "_dom_classes": [],
      "_model_module": "@jupyter-widgets/controls",
      "_model_module_version": "1.5.0",
      "_model_name": "FloatProgressModel",
      "_view_count": null,
      "_view_module": "@jupyter-widgets/controls",
      "_view_module_version": "1.5.0",
      "_view_name": "ProgressView",
      "bar_style": "success",
      "description": "",
      "description_tooltip": null,
      "layout": "IPY_MODEL_e7c775a45de84c6f92ace82f134e7a58",
      "max": 94342,
      "min": 0,
      "orientation": "horizontal",
      "style": "IPY_MODEL_3784dd6bb3dd4c6fb5f2fc7fe755ecf0",
      "value": 94342
     }
    }
   }
  }
 },
 "nbformat": 4,
 "nbformat_minor": 0
}
