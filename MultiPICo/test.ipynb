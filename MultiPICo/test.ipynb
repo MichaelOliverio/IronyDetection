{
 "cells": [
  {
   "cell_type": "code",
   "execution_count": 2,
   "metadata": {},
   "outputs": [],
   "source": [
    "import pandas as pd\n",
    "\n",
    "df = pd.read_csv(\"hf://datasets/Multilingual-Perspectivist-NLU/MultiPICo/multipico_anonimized.csv\")"
   ]
  },
  {
   "cell_type": "code",
   "execution_count": 3,
   "metadata": {},
   "outputs": [
    {
     "name": "stdout",
     "output_type": "stream",
     "text": [
      "Index(['label', 'timestamp', 'level', 'source', 'reply', 'post', 'language',\n",
      "       'language_variety', 'Age', 'Gender', 'Ethnicity simplified',\n",
      "       'Country of birth', 'Country of residence', 'Nationality',\n",
      "       'Student status', 'Employment status', 'Generation',\n",
      "       'GenerationAggregated', 'Employed', 'annotator_id', 'reply_id',\n",
      "       'post_id'],\n",
      "      dtype='object')\n"
     ]
    }
   ],
   "source": [
    "print(df.keys())"
   ]
  },
  {
   "cell_type": "code",
   "execution_count": 7,
   "metadata": {},
   "outputs": [
    {
     "data": {
      "text/html": [
       "<div>\n",
       "<style scoped>\n",
       "    .dataframe tbody tr th:only-of-type {\n",
       "        vertical-align: middle;\n",
       "    }\n",
       "\n",
       "    .dataframe tbody tr th {\n",
       "        vertical-align: top;\n",
       "    }\n",
       "\n",
       "    .dataframe thead th {\n",
       "        text-align: right;\n",
       "    }\n",
       "</style>\n",
       "<table border=\"1\" class=\"dataframe\">\n",
       "  <thead>\n",
       "    <tr style=\"text-align: right;\">\n",
       "      <th></th>\n",
       "      <th>label</th>\n",
       "      <th>timestamp</th>\n",
       "      <th>level</th>\n",
       "      <th>source</th>\n",
       "      <th>reply</th>\n",
       "      <th>post</th>\n",
       "      <th>language</th>\n",
       "      <th>language_variety</th>\n",
       "      <th>Age</th>\n",
       "      <th>Gender</th>\n",
       "      <th>...</th>\n",
       "      <th>Country of residence</th>\n",
       "      <th>Nationality</th>\n",
       "      <th>Student status</th>\n",
       "      <th>Employment status</th>\n",
       "      <th>Generation</th>\n",
       "      <th>GenerationAggregated</th>\n",
       "      <th>Employed</th>\n",
       "      <th>annotator_id</th>\n",
       "      <th>reply_id</th>\n",
       "      <th>post_id</th>\n",
       "    </tr>\n",
       "  </thead>\n",
       "  <tbody>\n",
       "    <tr>\n",
       "      <th>0</th>\n",
       "      <td>0</td>\n",
       "      <td>2022-12-07 15:15:39</td>\n",
       "      <td>1.0</td>\n",
       "      <td>twitter</td>\n",
       "      <td>@USER ... O esaltandolo..</td>\n",
       "      <td>Il silenzio e come un fiume di sabbia         ...</td>\n",
       "      <td>it</td>\n",
       "      <td>it</td>\n",
       "      <td>26.0</td>\n",
       "      <td>Male</td>\n",
       "      <td>...</td>\n",
       "      <td>Italy</td>\n",
       "      <td>Italy</td>\n",
       "      <td>Yes</td>\n",
       "      <td>Unemployed (and job seeking)</td>\n",
       "      <td>GenY</td>\n",
       "      <td>Young</td>\n",
       "      <td>No</td>\n",
       "      <td>9807983591906589316</td>\n",
       "      <td>9496337119089889126</td>\n",
       "      <td>7357414994945043930</td>\n",
       "    </tr>\n",
       "    <tr>\n",
       "      <th>1</th>\n",
       "      <td>0</td>\n",
       "      <td>2022-12-07 15:16:16</td>\n",
       "      <td>1.0</td>\n",
       "      <td>reddit</td>\n",
       "      <td>Calma, queste sono direttive date proprio dall...</td>\n",
       "      <td>Se il commesso continuerà a fare muro, egli sa...</td>\n",
       "      <td>it</td>\n",
       "      <td>it</td>\n",
       "      <td>26.0</td>\n",
       "      <td>Male</td>\n",
       "      <td>...</td>\n",
       "      <td>Italy</td>\n",
       "      <td>Italy</td>\n",
       "      <td>Yes</td>\n",
       "      <td>Unemployed (and job seeking)</td>\n",
       "      <td>GenY</td>\n",
       "      <td>Young</td>\n",
       "      <td>No</td>\n",
       "      <td>9807983591906589316</td>\n",
       "      <td>15597092344066966299</td>\n",
       "      <td>6535513880047527192</td>\n",
       "    </tr>\n",
       "    <tr>\n",
       "      <th>2</th>\n",
       "      <td>1</td>\n",
       "      <td>2022-12-07 15:16:28</td>\n",
       "      <td>2.0</td>\n",
       "      <td>twitter</td>\n",
       "      <td>@USER  @USER Anche per rompere il ghiaccio</td>\n",
       "      <td>@USER Gianca già che ci sei regalale un paio d...</td>\n",
       "      <td>it</td>\n",
       "      <td>it</td>\n",
       "      <td>26.0</td>\n",
       "      <td>Male</td>\n",
       "      <td>...</td>\n",
       "      <td>Italy</td>\n",
       "      <td>Italy</td>\n",
       "      <td>Yes</td>\n",
       "      <td>Unemployed (and job seeking)</td>\n",
       "      <td>GenY</td>\n",
       "      <td>Young</td>\n",
       "      <td>No</td>\n",
       "      <td>9807983591906589316</td>\n",
       "      <td>15902869978243358740</td>\n",
       "      <td>7961696982295378594</td>\n",
       "    </tr>\n",
       "    <tr>\n",
       "      <th>3</th>\n",
       "      <td>0</td>\n",
       "      <td>2022-12-07 15:16:41</td>\n",
       "      <td>1.0</td>\n",
       "      <td>reddit</td>\n",
       "      <td>&gt;PS se hai la pelle sensibile evita il rasoio ...</td>\n",
       "      <td>Io uso sia il rasoio di sicurezza che lo shave...</td>\n",
       "      <td>it</td>\n",
       "      <td>it</td>\n",
       "      <td>26.0</td>\n",
       "      <td>Male</td>\n",
       "      <td>...</td>\n",
       "      <td>Italy</td>\n",
       "      <td>Italy</td>\n",
       "      <td>Yes</td>\n",
       "      <td>Unemployed (and job seeking)</td>\n",
       "      <td>GenY</td>\n",
       "      <td>Young</td>\n",
       "      <td>No</td>\n",
       "      <td>9807983591906589316</td>\n",
       "      <td>13889809461410309670</td>\n",
       "      <td>9739175578440028850</td>\n",
       "    </tr>\n",
       "    <tr>\n",
       "      <th>4</th>\n",
       "      <td>1</td>\n",
       "      <td>2022-12-07 15:17:02</td>\n",
       "      <td>1.0</td>\n",
       "      <td>reddit</td>\n",
       "      <td>Lo dissi tempo fa in un thread analogo: gli HR...</td>\n",
       "      <td>Non l'ultimo che ho fatto (l'ultimo che ho fat...</td>\n",
       "      <td>it</td>\n",
       "      <td>it</td>\n",
       "      <td>26.0</td>\n",
       "      <td>Male</td>\n",
       "      <td>...</td>\n",
       "      <td>Italy</td>\n",
       "      <td>Italy</td>\n",
       "      <td>Yes</td>\n",
       "      <td>Unemployed (and job seeking)</td>\n",
       "      <td>GenY</td>\n",
       "      <td>Young</td>\n",
       "      <td>No</td>\n",
       "      <td>9807983591906589316</td>\n",
       "      <td>4110758050476660806</td>\n",
       "      <td>12650296792333791569</td>\n",
       "    </tr>\n",
       "  </tbody>\n",
       "</table>\n",
       "<p>5 rows × 22 columns</p>\n",
       "</div>"
      ],
      "text/plain": [
       "   label            timestamp  level   source  \\\n",
       "0      0  2022-12-07 15:15:39    1.0  twitter   \n",
       "1      0  2022-12-07 15:16:16    1.0   reddit   \n",
       "2      1  2022-12-07 15:16:28    2.0  twitter   \n",
       "3      0  2022-12-07 15:16:41    1.0   reddit   \n",
       "4      1  2022-12-07 15:17:02    1.0   reddit   \n",
       "\n",
       "                                               reply  \\\n",
       "0                          @USER ... O esaltandolo..   \n",
       "1  Calma, queste sono direttive date proprio dall...   \n",
       "2         @USER  @USER Anche per rompere il ghiaccio   \n",
       "3  >PS se hai la pelle sensibile evita il rasoio ...   \n",
       "4  Lo dissi tempo fa in un thread analogo: gli HR...   \n",
       "\n",
       "                                                post language  \\\n",
       "0  Il silenzio e come un fiume di sabbia         ...       it   \n",
       "1  Se il commesso continuerà a fare muro, egli sa...       it   \n",
       "2  @USER Gianca già che ci sei regalale un paio d...       it   \n",
       "3  Io uso sia il rasoio di sicurezza che lo shave...       it   \n",
       "4  Non l'ultimo che ho fatto (l'ultimo che ho fat...       it   \n",
       "\n",
       "  language_variety   Age Gender  ... Country of residence Nationality  \\\n",
       "0               it  26.0   Male  ...                Italy       Italy   \n",
       "1               it  26.0   Male  ...                Italy       Italy   \n",
       "2               it  26.0   Male  ...                Italy       Italy   \n",
       "3               it  26.0   Male  ...                Italy       Italy   \n",
       "4               it  26.0   Male  ...                Italy       Italy   \n",
       "\n",
       "  Student status             Employment status Generation  \\\n",
       "0            Yes  Unemployed (and job seeking)       GenY   \n",
       "1            Yes  Unemployed (and job seeking)       GenY   \n",
       "2            Yes  Unemployed (and job seeking)       GenY   \n",
       "3            Yes  Unemployed (and job seeking)       GenY   \n",
       "4            Yes  Unemployed (and job seeking)       GenY   \n",
       "\n",
       "  GenerationAggregated Employed         annotator_id              reply_id  \\\n",
       "0                Young       No  9807983591906589316   9496337119089889126   \n",
       "1                Young       No  9807983591906589316  15597092344066966299   \n",
       "2                Young       No  9807983591906589316  15902869978243358740   \n",
       "3                Young       No  9807983591906589316  13889809461410309670   \n",
       "4                Young       No  9807983591906589316   4110758050476660806   \n",
       "\n",
       "                post_id  \n",
       "0   7357414994945043930  \n",
       "1   6535513880047527192  \n",
       "2   7961696982295378594  \n",
       "3   9739175578440028850  \n",
       "4  12650296792333791569  \n",
       "\n",
       "[5 rows x 22 columns]"
      ]
     },
     "execution_count": 7,
     "metadata": {},
     "output_type": "execute_result"
    }
   ],
   "source": [
    "# select just the rows with language=\"it\"\n",
    "df_it = df[df[\"language\"] == \"it\"]\n",
    "df_it.reset_index(drop=True, inplace=True)\n",
    "df_it.head()"
   ]
  },
  {
   "cell_type": "code",
   "execution_count": 8,
   "metadata": {},
   "outputs": [
    {
     "data": {
      "text/plain": [
       "4790"
      ]
     },
     "execution_count": 8,
     "metadata": {},
     "output_type": "execute_result"
    }
   ],
   "source": [
    "len(df_it)"
   ]
  },
  {
   "cell_type": "code",
   "execution_count": 9,
   "metadata": {},
   "outputs": [
    {
     "data": {
      "text/plain": [
       "24"
      ]
     },
     "execution_count": 9,
     "metadata": {},
     "output_type": "execute_result"
    }
   ],
   "source": [
    "# count the number of different annotator_id\n",
    "df_it[\"annotator_id\"].nunique()"
   ]
  },
  {
   "cell_type": "code",
   "execution_count": 10,
   "metadata": {},
   "outputs": [
    {
     "data": {
      "text/plain": [
       "1000"
      ]
     },
     "execution_count": 10,
     "metadata": {},
     "output_type": "execute_result"
    }
   ],
   "source": [
    "df_it[\"reply_id\"].nunique()"
   ]
  },
  {
   "cell_type": "code",
   "execution_count": 11,
   "metadata": {},
   "outputs": [
    {
     "data": {
      "text/plain": [
       "882"
      ]
     },
     "execution_count": 11,
     "metadata": {},
     "output_type": "execute_result"
    }
   ],
   "source": [
    "df_it[\"post_id\"].nunique()"
   ]
  },
  {
   "cell_type": "code",
   "execution_count": 12,
   "metadata": {},
   "outputs": [
    {
     "data": {
      "text/plain": [
       "array(['Young', 'Old'], dtype=object)"
      ]
     },
     "execution_count": 12,
     "metadata": {},
     "output_type": "execute_result"
    }
   ],
   "source": [
    "# get the different GenerationAggregated\n",
    "df_it[\"GenerationAggregated\"].unique()"
   ]
  },
  {
   "cell_type": "code",
   "execution_count": 13,
   "metadata": {},
   "outputs": [
    {
     "data": {
      "text/plain": [
       "array(['GenY', 'GenZ', 'GenX'], dtype=object)"
      ]
     },
     "execution_count": 13,
     "metadata": {},
     "output_type": "execute_result"
    }
   ],
   "source": [
    "df_it[\"Generation\"].unique()"
   ]
  }
 ],
 "metadata": {
  "kernelspec": {
   "display_name": "venv",
   "language": "python",
   "name": "python3"
  },
  "language_info": {
   "codemirror_mode": {
    "name": "ipython",
    "version": 3
   },
   "file_extension": ".py",
   "mimetype": "text/x-python",
   "name": "python",
   "nbconvert_exporter": "python",
   "pygments_lexer": "ipython3",
   "version": "3.12.3"
  }
 },
 "nbformat": 4,
 "nbformat_minor": 2
}
